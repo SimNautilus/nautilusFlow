{
 "cells": [
  {
   "cell_type": "code",
   "execution_count": 5,
   "metadata": {},
   "outputs": [],
   "source": [
    "import numpy as np\n",
    "from matplotlib import pyplot\n",
    "import chaospy as cp \n",
    "\n",
    "from scipy.io import loadmat\n",
    "import spgl1 as spg"
   ]
  },
  {
   "cell_type": "code",
   "execution_count": 51,
   "metadata": {},
   "outputs": [
    {
     "name": "stdout",
     "output_type": "stream",
     "text": [
      "(5, 495)\n",
      "(495,)\n"
     ]
    },
    {
     "data": {
      "text/plain": [
       "array([[ 0.47053404,  0.22257798],\n",
       "       [-0.09446919,  0.68218687],\n",
       "       [ 0.6721462 , -0.04786531],\n",
       "       [-0.19492023,  0.81100996],\n",
       "       [-0.04073492,  0.95030637]])"
      ]
     },
     "execution_count": 51,
     "metadata": {},
     "output_type": "execute_result"
    }
   ],
   "source": [
    "## Inputs - load and format\n",
    " \n",
    "uniform_data = loadmat('Diffuser_data_0/uniform_mat.mat')\n",
    "uniform_data = uniform_data['uniform_mat'].T\n",
    "\n",
    "samples = uniform_data[:,:]\n",
    "\n",
    "# Stochastic dimension (number of variables sampled)\n",
    "d = samples.shape[0]\n",
    "# Number of samples - originally 500 but 5 runs that diverged have been removed \n",
    "n_samp = samples.shape[1]\n",
    "\n",
    "# Evaluations - recirculation length\n",
    "evaluations = loadmat('Diffuser_data_0/data_diffuser.mat')\n",
    "#evaluations = evaluations['data_diffuser']\n",
    "evaluations = np.reshape(evaluations['data_diffuser'], -1)\n",
    "\n",
    "\n",
    "print(samples.shape)\n",
    "print(evaluations.shape)\n",
    "samples[:,0:2]"
   ]
  },
  {
   "cell_type": "code",
   "execution_count": 13,
   "metadata": {},
   "outputs": [
    {
     "data": {
      "text/plain": [
       "Iid(Uniform(lower=-1, upper=1), 5)"
      ]
     },
     "execution_count": 13,
     "metadata": {},
     "output_type": "execute_result"
    }
   ],
   "source": [
    "## Set up distribtion\n",
    "\n",
    "distribution_uniform = cp.Uniform(-1,1)\n",
    "# We sample all 5 parameters as uniform distribution\n",
    "distribution = cp.Iid(distribution_uniform,d)\n",
    "distribution"
   ]
  },
  {
   "cell_type": "code",
   "execution_count": 29,
   "metadata": {},
   "outputs": [],
   "source": [
    "# Choose polynomial order - calibrate this for minimum validation error\n",
    "polynomial_order = 4\n",
    "\n",
    "# Construct PC expansion \n",
    "polynomial_expansion = cp.orth_ttr(\n",
    "    polynomial_order, distribution)\n"
   ]
  },
  {
   "cell_type": "code",
   "execution_count": 40,
   "metadata": {},
   "outputs": [],
   "source": [
    "## Fit pc expansion to data. Chaospy default is least squares.\n",
    "model_approximation_cp = cp.fit_regression(polynomial_expansion, samples[:,0:400], evaluations[0:400])\n",
    "# While this gives an estimate of the data, really we want the pc coefficients which we can use to compute validation error"
   ]
  },
  {
   "cell_type": "code",
   "execution_count": 41,
   "metadata": {},
   "outputs": [
    {
     "name": "stdout",
     "output_type": "stream",
     "text": [
      "(126,)\n",
      "(95,)\n",
      "0.1082381514906898\n"
     ]
    }
   ],
   "source": [
    "# Calculate PC coefficients and compute validation error\n",
    "phi = polynomial_expansion(*samples[:,0:400]).T\n",
    "ptp = phi.T @ phi\n",
    "pty = phi.T @ evaluations[0:400]\n",
    "c_hat = np.linalg.inv(ptp) @ pty\n",
    "print(c_hat.shape)\n",
    "\n",
    "# validation error\n",
    "phi_val = polynomial_expansion(*samples[:,400:]).T\n",
    "val_est = phi_val @ c_hat\n",
    "print(val_est.shape)\n",
    "val_error = np.linalg.norm(evaluations[400:] - val_est)/np.linalg.norm(evaluations[400:])\n",
    "print(val_error)"
   ]
  },
  {
   "cell_type": "code",
   "execution_count": 42,
   "metadata": {},
   "outputs": [
    {
     "name": "stdout",
     "output_type": "stream",
     "text": [
      "(400, 126)\n",
      "(400,)\n",
      "(126,)\n",
      "(95,)\n",
      "0.1082380328586923\n"
     ]
    }
   ],
   "source": [
    "# Calculate PC coefficients and compute validation error with an alternative solver, i.e., spgl1 bpdn. \n",
    "# for some problems this may be advantageous \n",
    "phi = polynomial_expansion(*samples[:,0:400]).T\n",
    "\n",
    "sigma = 0.001\n",
    "c_hat_spg, resid, grad, info  = spg.spg_bpdn(phi, evaluations[0:400], sigma)\n",
    "print(c_hat_spg.shape)\n",
    "\n",
    "# validation error\n",
    "phi_val = polynomial_expansion(*samples[:,400:]).T\n",
    "val_est = phi_val @ c_hat_spg\n",
    "print(val_est.shape)\n",
    "val_error = np.linalg.norm(evaluations[400:] - val_est)/np.linalg.norm(evaluations[400:])\n",
    "print(val_error)"
   ]
  },
  {
   "cell_type": "code",
   "execution_count": 49,
   "metadata": {},
   "outputs": [
    {
     "name": "stdout",
     "output_type": "stream",
     "text": [
      "()\n",
      "[0.61124586 0.2453018  0.18647151 0.0669517  0.39429667]\n",
      "(5,)\n"
     ]
    }
   ],
   "source": [
    "## Calculate sobol indices from pc exansion \n",
    "model_approximation = np.sum(c_hat_spg*polynomial_expansion)\n",
    "print(model_approximation_2.shape)\n",
    "\n",
    "# First order sobol indice\n",
    "s_1 = cp.Sens_m(model_approximation, distribution)\n",
    "# Total sobol indice\n",
    "s_t = cp.Sens_t(model_approximation, distribution)\n",
    "\n",
    "s_interactions = s_t-s_1\n",
    "print(s_t)\n",
    "print(s_t.shape)\n"
   ]
  },
  {
   "cell_type": "code",
   "execution_count": 50,
   "metadata": {},
   "outputs": [
    {
     "name": "stdout",
     "output_type": "stream",
     "text": [
      "[0.26617975 0.18139497 0.16698187 0.05952215 0.22703901]\n",
      "0.8693295472776954\n"
     ]
    },
    {
     "data": {
      "text/plain": [
       "array([0. , 0.2, 0.4, 0.6, 0.8, 1. ])"
      ]
     },
     "execution_count": 50,
     "metadata": {},
     "output_type": "execute_result"
    },
    {
     "data": {
      "image/png": "[encoded data removed]",
      "text/plain": [
       "<Figure size 324x288 with 1 Axes>"
      ]
     },
     "metadata": {
      "needs_background": "light"
     },
     "output_type": "display_data"
    }
   ],
   "source": [
    "## Plot sensitivity \n",
    "\n",
    "# Python plot a stacked histogram\n",
    "pyplot.rc(\"figure\", figsize=[4.5, 4])\n",
    "\n",
    "## Show samples as 2-dimensional scatter plot\n",
    "##pyplot.scatter(*samples[rule], marker=\"x\", color=\"k\")\n",
    "\n",
    "p1 = pyplot.bar([1,2,3,4,5], np.ravel(s_1))\n",
    "p2 = pyplot.bar([1,2,3,4,5], np.ravel(s_t-s_1), bottom=np.ravel(s_1))\n",
    "\n",
    "## Make scatter ficutres pretty\n",
    "pyplot.xlabel(\"Parameter\")\n",
    "pyplot.xticks([1,2,3,4,5], ('1', '2', '3', '4', '5'))\n",
    "pyplot.ylabel(\"Sobal Index\") \n",
    "pyplot.yticks(np.arange(0, 1.1, 0.2))\n",
    "pyplot.legend((p1[0], p2[0]), ('First Order', 'Interactions'))\n",
    "pyplot.title(\"Sensitivity Analysis\")\n",
    "\n",
    "##pyplot.axis([0.9, 2.1, 0.1, 0.2])\n",
    "np.arange(0, 1.1, 0.2)"
   ]
  },
  {
   "cell_type": "code",
   "execution_count": null,
   "metadata": {},
   "outputs": [],
   "source": []
  }
 ],
 "metadata": {
  "kernelspec": {
   "display_name": "Python 3",
   "language": "python",
   "name": "python3"
  },
  "language_info": {
   "codemirror_mode": {
    "name": "ipython",
    "version": 3
   },
   "file_extension": ".py",
   "mimetype": "text/x-python",
   "name": "python",
   "nbconvert_exporter": "python",
   "pygments_lexer": "ipython3",
   "version": "3.9.2"
  }
 },
 "nbformat": 4,
 "nbformat_minor": 4
}
